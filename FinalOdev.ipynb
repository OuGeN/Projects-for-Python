{
  "nbformat": 4,
  "nbformat_minor": 0,
  "metadata": {
    "colab": {
      "name": "FinalOdev.ipynb",
      "provenance": [],
      "collapsed_sections": [],
      "mount_file_id": "1yvvRHjzq9j6sOLD9DjaRjX-0Ws0gs4_P",
      "authorship_tag": "ABX9TyNgwfbRrLMJUYU7eMjyhJg7",
      "include_colab_link": true
    },
    "kernelspec": {
      "name": "python3",
      "display_name": "Python 3"
    },
    "accelerator": "GPU"
  },
  "cells": [
    {
      "cell_type": "markdown",
      "metadata": {
        "id": "view-in-github",
        "colab_type": "text"
      },
      "source": [
        "<a href=\"https://colab.research.google.com/github/oyesilpinar/Projects-for-Python/blob/master/FinalOdev.ipynb\" target=\"_parent\"><img src=\"https://colab.research.google.com/assets/colab-badge.svg\" alt=\"Open In Colab\"/></a>"
      ]
    },
    {
      "cell_type": "code",
      "metadata": {
        "colab": {
          "base_uri": "https://localhost:8080/"
        },
        "id": "XLCgvOEgFF36",
        "outputId": "ca9c3ee8-2d60-4a24-98bb-3a483eee9a77"
      },
      "source": [
        "## get the data\r\n",
        "!wget https://s3-api.us-geo.objectstorage.softlayer.net/cf-courses-data/CognitiveClass/DL0321EN/data/concrete_data_week3.zip"
      ],
      "execution_count": 12,
      "outputs": [
        {
          "output_type": "stream",
          "text": [
            "--2021-01-24 15:55:50--  https://s3-api.us-geo.objectstorage.softlayer.net/cf-courses-data/CognitiveClass/DL0321EN/data/concrete_data_week3.zip\n",
            "Resolving s3-api.us-geo.objectstorage.softlayer.net (s3-api.us-geo.objectstorage.softlayer.net)... 67.228.254.196\n",
            "Connecting to s3-api.us-geo.objectstorage.softlayer.net (s3-api.us-geo.objectstorage.softlayer.net)|67.228.254.196|:443... connected.\n",
            "HTTP request sent, awaiting response... 200 OK\n",
            "Length: 261482368 (249M) [application/zip]\n",
            "Saving to: ‘concrete_data_week3.zip’\n",
            "\n",
            "concrete_data_week3 100%[===================>] 249.37M  35.5MB/s    in 7.0s    \n",
            "\n",
            "2021-01-24 15:55:58 (35.8 MB/s) - ‘concrete_data_week3.zip’ saved [261482368/261482368]\n",
            "\n"
          ],
          "name": "stdout"
        }
      ]
    },
    {
      "cell_type": "code",
      "metadata": {
        "colab": {
          "base_uri": "https://localhost:8080/"
        },
        "id": "isfyQbKlHPkH",
        "outputId": "84e066a9-55d7-4016-e2aa-ab7f861808f3"
      },
      "source": [
        "from keras.preprocessing.image import ImageDataGenerator\r\n",
        "import keras\r\n",
        "from keras.models import Sequential\r\n",
        "from keras.layers import Input, Dense\r\n",
        "from keras.applications import ResNet50\r\n",
        "from keras.applications.resnet50 import preprocess_input\r\n",
        "print(keras.__version__)\r\n",
        "\r\n",
        "from tensorflow.keras.preprocessing.image import ImageDataGenerator\r\n",
        "from tensorflow.keras.preprocessing import image\r\n",
        "from tensorflow.keras.optimizers import RMSprop\r\n",
        "import tensorflow as tf\r\n",
        "import matplotlib.pyplot as plt\r\n",
        "import cv2\r\n",
        "import os\r\n",
        "import numpy as np"
      ],
      "execution_count": 32,
      "outputs": [
        {
          "output_type": "stream",
          "text": [
            "2.4.3\n"
          ],
          "name": "stdout"
        }
      ]
    },
    {
      "cell_type": "code",
      "metadata": {
        "id": "laO2fv8jHVAI"
      },
      "source": [
        "num_classes = 2\r\n",
        "\r\n",
        "image_resize = 224\r\n",
        "\r\n",
        "batch_size_training = 100\r\n",
        "batch_size_validation = 100"
      ],
      "execution_count": 33,
      "outputs": []
    },
    {
      "cell_type": "code",
      "metadata": {
        "id": "uK8rZVRgHWrm"
      },
      "source": [
        "data_generator = ImageDataGenerator(\r\n",
        "    preprocessing_function=preprocess_input,\r\n",
        ")"
      ],
      "execution_count": 34,
      "outputs": []
    },
    {
      "cell_type": "code",
      "metadata": {
        "id": "Z5d6KJttHbgn"
      },
      "source": [
        "train = ImageDataGenerator(rescale=1/255)\r\n",
        "validation = ImageDataGenerator(rescale=1/255)"
      ],
      "execution_count": 40,
      "outputs": []
    },
    {
      "cell_type": "code",
      "metadata": {
        "colab": {
          "base_uri": "https://localhost:8080/"
        },
        "id": "X6pdHnpKKSae",
        "outputId": "cb6419dc-4d5b-417a-fedc-ca5043c83079"
      },
      "source": [
        "\r\n",
        "train_generator = data_generator.flow_from_directory(\r\n",
        "    '/content/drive/MyDrive/ColabNotebooks/Dataset2/Train',\r\n",
        "    target_size=(image_resize, image_resize),\r\n",
        "    batch_size=batch_size_training,\r\n",
        "    class_mode='categorical')"
      ],
      "execution_count": 104,
      "outputs": [
        {
          "output_type": "stream",
          "text": [
            "Found 93 images belonging to 1 classes.\n"
          ],
          "name": "stdout"
        }
      ]
    },
    {
      "cell_type": "code",
      "metadata": {
        "colab": {
          "base_uri": "https://localhost:8080/"
        },
        "id": "tV-6HdtULBsZ",
        "outputId": "344382b0-4295-4721-b703-6a5aed40854b"
      },
      "source": [
        "validation_generator = data_generator.flow_from_directory(\r\n",
        "    '/content/drive/MyDrive/ColabNotebooks/Dataset2/Validation',\r\n",
        "    target_size=(image_resize, image_resize),\r\n",
        "    batch_size=batch_size_validation,\r\n",
        "    class_mode='categorical')"
      ],
      "execution_count": 105,
      "outputs": [
        {
          "output_type": "stream",
          "text": [
            "Found 79 images belonging to 1 classes.\n"
          ],
          "name": "stdout"
        }
      ]
    },
    {
      "cell_type": "code",
      "metadata": {
        "id": "d237Oz5mLyF5"
      },
      "source": [
        "model = Sequential()\r\n",
        "#model = tensorflow.keras.Sequential()"
      ],
      "execution_count": 106,
      "outputs": []
    },
    {
      "cell_type": "code",
      "metadata": {
        "id": "tkmgDAaqL0vf"
      },
      "source": [
        "model.add(ResNet50(\r\n",
        "    include_top=False,\r\n",
        "    pooling='avg',\r\n",
        "    weights='imagenet',\r\n",
        "    ))"
      ],
      "execution_count": 107,
      "outputs": []
    },
    {
      "cell_type": "code",
      "metadata": {
        "id": "ZNg2J23uMDFG"
      },
      "source": [
        "model.add(Dense(num_classes, activation='softmax'))"
      ],
      "execution_count": 108,
      "outputs": []
    },
    {
      "cell_type": "code",
      "metadata": {
        "colab": {
          "base_uri": "https://localhost:8080/"
        },
        "id": "nsLtJjkFMH8o",
        "outputId": "ffbbf468-4e25-41ab-a734-d6865f25eb1d"
      },
      "source": [
        "model.layers"
      ],
      "execution_count": 109,
      "outputs": [
        {
          "output_type": "execute_result",
          "data": {
            "text/plain": [
              "[<tensorflow.python.keras.engine.functional.Functional at 0x7efd051ef7b8>,\n",
              " <tensorflow.python.keras.layers.core.Dense at 0x7efd07129d30>]"
            ]
          },
          "metadata": {
            "tags": []
          },
          "execution_count": 109
        }
      ]
    },
    {
      "cell_type": "code",
      "metadata": {
        "colab": {
          "base_uri": "https://localhost:8080/"
        },
        "id": "2LGsvcMKMLoZ",
        "outputId": "63c676b4-a301-4911-b1fe-e2e226220416"
      },
      "source": [
        "model.layers[0].layers"
      ],
      "execution_count": 110,
      "outputs": [
        {
          "output_type": "execute_result",
          "data": {
            "text/plain": [
              "[<tensorflow.python.keras.engine.input_layer.InputLayer at 0x7efd064665c0>,\n",
              " <tensorflow.python.keras.layers.convolutional.ZeroPadding2D at 0x7efd06466e10>,\n",
              " <tensorflow.python.keras.layers.convolutional.Conv2D at 0x7efec1517be0>,\n",
              " <tensorflow.python.keras.layers.normalization_v2.BatchNormalization at 0x7efd065fb2e8>,\n",
              " <tensorflow.python.keras.layers.core.Activation at 0x7efd065fbb70>,\n",
              " <tensorflow.python.keras.layers.convolutional.ZeroPadding2D at 0x7efd064765f8>,\n",
              " <tensorflow.python.keras.layers.pooling.MaxPooling2D at 0x7efd06476dd8>,\n",
              " <tensorflow.python.keras.layers.convolutional.Conv2D at 0x7efd05402f98>,\n",
              " <tensorflow.python.keras.layers.normalization_v2.BatchNormalization at 0x7efd0540d438>,\n",
              " <tensorflow.python.keras.layers.core.Activation at 0x7efd0540df60>,\n",
              " <tensorflow.python.keras.layers.convolutional.Conv2D at 0x7efd05415400>,\n",
              " <tensorflow.python.keras.layers.normalization_v2.BatchNormalization at 0x7efd05415f60>,\n",
              " <tensorflow.python.keras.layers.core.Activation at 0x7efd0541a630>,\n",
              " <tensorflow.python.keras.layers.convolutional.Conv2D at 0x7efd053fd898>,\n",
              " <tensorflow.python.keras.layers.convolutional.Conv2D at 0x7efd05420a20>,\n",
              " <tensorflow.python.keras.layers.normalization_v2.BatchNormalization at 0x7efd053fd240>,\n",
              " <tensorflow.python.keras.layers.normalization_v2.BatchNormalization at 0x7efd05428668>,\n",
              " <tensorflow.python.keras.layers.merge.Add at 0x7efd05428898>,\n",
              " <tensorflow.python.keras.layers.core.Activation at 0x7efd05436208>,\n",
              " <tensorflow.python.keras.layers.convolutional.Conv2D at 0x7efd05436b00>,\n",
              " <tensorflow.python.keras.layers.normalization_v2.BatchNormalization at 0x7efd053bd748>,\n",
              " <tensorflow.python.keras.layers.core.Activation at 0x7efd053bd7b8>,\n",
              " <tensorflow.python.keras.layers.convolutional.Conv2D at 0x7efd053c50f0>,\n",
              " <tensorflow.python.keras.layers.normalization_v2.BatchNormalization at 0x7efd053cb8d0>,\n",
              " <tensorflow.python.keras.layers.core.Activation at 0x7efd053d0c50>,\n",
              " <tensorflow.python.keras.layers.convolutional.Conv2D at 0x7efd053d83c8>,\n",
              " <tensorflow.python.keras.layers.normalization_v2.BatchNormalization at 0x7efd053df160>,\n",
              " <tensorflow.python.keras.layers.merge.Add at 0x7efd053df518>,\n",
              " <tensorflow.python.keras.layers.core.Activation at 0x7efd053d02b0>,\n",
              " <tensorflow.python.keras.layers.convolutional.Conv2D at 0x7efd05436240>,\n",
              " <tensorflow.python.keras.layers.normalization_v2.BatchNormalization at 0x7efd053c54e0>,\n",
              " <tensorflow.python.keras.layers.core.Activation at 0x7efd05430668>,\n",
              " <tensorflow.python.keras.layers.convolutional.Conv2D at 0x7efd05420ba8>,\n",
              " <tensorflow.python.keras.layers.normalization_v2.BatchNormalization at 0x7efd054049b0>,\n",
              " <tensorflow.python.keras.layers.core.Activation at 0x7efd054152e8>,\n",
              " <tensorflow.python.keras.layers.convolutional.Conv2D at 0x7efd06466cc0>,\n",
              " <tensorflow.python.keras.layers.normalization_v2.BatchNormalization at 0x7efd065fbeb8>,\n",
              " <tensorflow.python.keras.layers.merge.Add at 0x7efd053e9358>,\n",
              " <tensorflow.python.keras.layers.core.Activation at 0x7efd064665f8>,\n",
              " <tensorflow.python.keras.layers.convolutional.Conv2D at 0x7efd0537e390>,\n",
              " <tensorflow.python.keras.layers.normalization_v2.BatchNormalization at 0x7efd05389668>,\n",
              " <tensorflow.python.keras.layers.core.Activation at 0x7efd0538e9e8>,\n",
              " <tensorflow.python.keras.layers.convolutional.Conv2D at 0x7efd0538ea58>,\n",
              " <tensorflow.python.keras.layers.normalization_v2.BatchNormalization at 0x7efd05393d30>,\n",
              " <tensorflow.python.keras.layers.core.Activation at 0x7efd0539e518>,\n",
              " <tensorflow.python.keras.layers.convolutional.Conv2D at 0x7efd05378128>,\n",
              " <tensorflow.python.keras.layers.convolutional.Conv2D at 0x7efd053a6b38>,\n",
              " <tensorflow.python.keras.layers.normalization_v2.BatchNormalization at 0x7efd05378d30>,\n",
              " <tensorflow.python.keras.layers.normalization_v2.BatchNormalization at 0x7efd053a60f0>,\n",
              " <tensorflow.python.keras.layers.merge.Add at 0x7efd05393198>,\n",
              " <tensorflow.python.keras.layers.core.Activation at 0x7efd053b5438>,\n",
              " <tensorflow.python.keras.layers.convolutional.Conv2D at 0x7efd053add68>,\n",
              " <tensorflow.python.keras.layers.normalization_v2.BatchNormalization at 0x7efd05393a58>,\n",
              " <tensorflow.python.keras.layers.core.Activation at 0x7efd0533e588>,\n",
              " <tensorflow.python.keras.layers.convolutional.Conv2D at 0x7efd05346ba8>,\n",
              " <tensorflow.python.keras.layers.normalization_v2.BatchNormalization at 0x7efd053462b0>,\n",
              " <tensorflow.python.keras.layers.core.Activation at 0x7efd053b56d8>,\n",
              " <tensorflow.python.keras.layers.convolutional.Conv2D at 0x7efd05355278>,\n",
              " <tensorflow.python.keras.layers.normalization_v2.BatchNormalization at 0x7efd0534ecc0>,\n",
              " <tensorflow.python.keras.layers.merge.Add at 0x7efd05355dd8>,\n",
              " <tensorflow.python.keras.layers.core.Activation at 0x7efd053645c0>,\n",
              " <tensorflow.python.keras.layers.convolutional.Conv2D at 0x7efd05364d30>,\n",
              " <tensorflow.python.keras.layers.normalization_v2.BatchNormalization at 0x7efd05364860>,\n",
              " <tensorflow.python.keras.layers.core.Activation at 0x7efd05355588>,\n",
              " <tensorflow.python.keras.layers.convolutional.Conv2D at 0x7efd053748d0>,\n",
              " <tensorflow.python.keras.layers.normalization_v2.BatchNormalization at 0x7efd05374160>,\n",
              " <tensorflow.python.keras.layers.core.Activation at 0x7efd0533d4e0>,\n",
              " <tensorflow.python.keras.layers.convolutional.Conv2D at 0x7efd053039e8>,\n",
              " <tensorflow.python.keras.layers.normalization_v2.BatchNormalization at 0x7efd053030f0>,\n",
              " <tensorflow.python.keras.layers.merge.Add at 0x7efd052faa90>,\n",
              " <tensorflow.python.keras.layers.core.Activation at 0x7efd053559e8>,\n",
              " <tensorflow.python.keras.layers.convolutional.Conv2D at 0x7efd05346be0>,\n",
              " <tensorflow.python.keras.layers.normalization_v2.BatchNormalization at 0x7efd0534e828>,\n",
              " <tensorflow.python.keras.layers.core.Activation at 0x7efd0533dac8>,\n",
              " <tensorflow.python.keras.layers.convolutional.Conv2D at 0x7efd0538e1d0>,\n",
              " <tensorflow.python.keras.layers.normalization_v2.BatchNormalization at 0x7efd0537e780>,\n",
              " <tensorflow.python.keras.layers.core.Activation at 0x7efd0539ec88>,\n",
              " <tensorflow.python.keras.layers.convolutional.Conv2D at 0x7efd053e9208>,\n",
              " <tensorflow.python.keras.layers.normalization_v2.BatchNormalization at 0x7efd05404400>,\n",
              " <tensorflow.python.keras.layers.merge.Add at 0x7efd06476ef0>,\n",
              " <tensorflow.python.keras.layers.core.Activation at 0x7efd05420160>,\n",
              " <tensorflow.python.keras.layers.convolutional.Conv2D at 0x7efd054363c8>,\n",
              " <tensorflow.python.keras.layers.normalization_v2.BatchNormalization at 0x7efd0531bcc0>,\n",
              " <tensorflow.python.keras.layers.core.Activation at 0x7efd0531b940>,\n",
              " <tensorflow.python.keras.layers.convolutional.Conv2D at 0x7efd05320780>,\n",
              " <tensorflow.python.keras.layers.normalization_v2.BatchNormalization at 0x7efd053297f0>,\n",
              " <tensorflow.python.keras.layers.core.Activation at 0x7efd05329860>,\n",
              " <tensorflow.python.keras.layers.convolutional.Conv2D at 0x7efd0530ad68>,\n",
              " <tensorflow.python.keras.layers.convolutional.Conv2D at 0x7efd052b92e8>,\n",
              " <tensorflow.python.keras.layers.normalization_v2.BatchNormalization at 0x7efd0530a710>,\n",
              " <tensorflow.python.keras.layers.normalization_v2.BatchNormalization at 0x7efd052b9f28>,\n",
              " <tensorflow.python.keras.layers.merge.Add at 0x7efd052bf748>,\n",
              " <tensorflow.python.keras.layers.core.Activation at 0x7efd052c6c18>,\n",
              " <tensorflow.python.keras.layers.convolutional.Conv2D at 0x7efd052d03c8>,\n",
              " <tensorflow.python.keras.layers.normalization_v2.BatchNormalization at 0x7efd052d6160>,\n",
              " <tensorflow.python.keras.layers.core.Activation at 0x7efd052d6b38>,\n",
              " <tensorflow.python.keras.layers.convolutional.Conv2D at 0x7efd052dc550>,\n",
              " <tensorflow.python.keras.layers.normalization_v2.BatchNormalization at 0x7efd052e3198>,\n",
              " <tensorflow.python.keras.layers.core.Activation at 0x7efd052e3d68>,\n",
              " <tensorflow.python.keras.layers.convolutional.Conv2D at 0x7efd052ebc50>,\n",
              " <tensorflow.python.keras.layers.normalization_v2.BatchNormalization at 0x7efd052f5898>,\n",
              " <tensorflow.python.keras.layers.merge.Add at 0x7efd0527c550>,\n",
              " <tensorflow.python.keras.layers.core.Activation at 0x7efd052835c0>,\n",
              " <tensorflow.python.keras.layers.convolutional.Conv2D at 0x7efd05283d30>,\n",
              " <tensorflow.python.keras.layers.normalization_v2.BatchNormalization at 0x7efd0528b978>,\n",
              " <tensorflow.python.keras.layers.core.Activation at 0x7efd0528b0b8>,\n",
              " <tensorflow.python.keras.layers.convolutional.Conv2D at 0x7efd05290eb8>,\n",
              " <tensorflow.python.keras.layers.normalization_v2.BatchNormalization at 0x7efd0529cb00>,\n",
              " <tensorflow.python.keras.layers.core.Activation at 0x7efd052a1e80>,\n",
              " <tensorflow.python.keras.layers.convolutional.Conv2D at 0x7efd05283908>,\n",
              " <tensorflow.python.keras.layers.normalization_v2.BatchNormalization at 0x7efd052f5588>,\n",
              " <tensorflow.python.keras.layers.merge.Add at 0x7efd052eb400>,\n",
              " <tensorflow.python.keras.layers.core.Activation at 0x7efd052e3828>,\n",
              " <tensorflow.python.keras.layers.convolutional.Conv2D at 0x7efd052dc4a8>,\n",
              " <tensorflow.python.keras.layers.normalization_v2.BatchNormalization at 0x7efd052c6080>,\n",
              " <tensorflow.python.keras.layers.core.Activation at 0x7efd052bf128>,\n",
              " <tensorflow.python.keras.layers.convolutional.Conv2D at 0x7efd05330ef0>,\n",
              " <tensorflow.python.keras.layers.normalization_v2.BatchNormalization at 0x7efd05320c18>,\n",
              " <tensorflow.python.keras.layers.core.Activation at 0x7efd05314080>,\n",
              " <tensorflow.python.keras.layers.convolutional.Conv2D at 0x7efd053f1828>,\n",
              " <tensorflow.python.keras.layers.normalization_v2.BatchNormalization at 0x7efd053a6048>,\n",
              " <tensorflow.python.keras.layers.merge.Add at 0x7efd0534e358>,\n",
              " <tensorflow.python.keras.layers.core.Activation at 0x7efd052d0b38>,\n",
              " <tensorflow.python.keras.layers.convolutional.Conv2D at 0x7efd052af390>,\n",
              " <tensorflow.python.keras.layers.normalization_v2.BatchNormalization at 0x7efd052affd0>,\n",
              " <tensorflow.python.keras.layers.core.Activation at 0x7efd052b55f8>,\n",
              " <tensorflow.python.keras.layers.convolutional.Conv2D at 0x7efd0523b320>,\n",
              " <tensorflow.python.keras.layers.normalization_v2.BatchNormalization at 0x7efd05245160>,\n",
              " <tensorflow.python.keras.layers.core.Activation at 0x7efd05245978>,\n",
              " <tensorflow.python.keras.layers.convolutional.Conv2D at 0x7efd0524ac18>,\n",
              " <tensorflow.python.keras.layers.normalization_v2.BatchNormalization at 0x7efd05256860>,\n",
              " <tensorflow.python.keras.layers.merge.Add at 0x7efd052592e8>,\n",
              " <tensorflow.python.keras.layers.core.Activation at 0x7efd0524a198>,\n",
              " <tensorflow.python.keras.layers.convolutional.Conv2D at 0x7efd05265cf8>,\n",
              " <tensorflow.python.keras.layers.normalization_v2.BatchNormalization at 0x7efd0526c940>,\n",
              " <tensorflow.python.keras.layers.core.Activation at 0x7efd0526cb00>,\n",
              " <tensorflow.python.keras.layers.convolutional.Conv2D at 0x7efd05271320>,\n",
              " <tensorflow.python.keras.layers.normalization_v2.BatchNormalization at 0x7efd051fbac8>,\n",
              " <tensorflow.python.keras.layers.core.Activation at 0x7efd051ffe48>,\n",
              " <tensorflow.python.keras.layers.convolutional.Conv2D at 0x7efd052015c0>,\n",
              " <tensorflow.python.keras.layers.normalization_v2.BatchNormalization at 0x7efd0520f208>,\n",
              " <tensorflow.python.keras.layers.merge.Add at 0x7efd0520f6a0>,\n",
              " <tensorflow.python.keras.layers.core.Activation at 0x7efd05217ef0>,\n",
              " <tensorflow.python.keras.layers.convolutional.Conv2D at 0x7efd05227940>,\n",
              " <tensorflow.python.keras.layers.normalization_v2.BatchNormalization at 0x7efd0522ebe0>,\n",
              " <tensorflow.python.keras.layers.core.Activation at 0x7efd05236f60>,\n",
              " <tensorflow.python.keras.layers.convolutional.Conv2D at 0x7efd051bcb00>,\n",
              " <tensorflow.python.keras.layers.normalization_v2.BatchNormalization at 0x7efd05236160>,\n",
              " <tensorflow.python.keras.layers.core.Activation at 0x7efd05227cf8>,\n",
              " <tensorflow.python.keras.layers.convolutional.Conv2D at 0x7efd0521e6a0>,\n",
              " <tensorflow.python.keras.layers.convolutional.Conv2D at 0x7efd0520ff28>,\n",
              " <tensorflow.python.keras.layers.normalization_v2.BatchNormalization at 0x7efd052272e8>,\n",
              " <tensorflow.python.keras.layers.normalization_v2.BatchNormalization at 0x7efd0520f438>,\n",
              " <tensorflow.python.keras.layers.merge.Add at 0x7efd0521e9e8>,\n",
              " <tensorflow.python.keras.layers.core.Activation at 0x7efd052718d0>,\n",
              " <tensorflow.python.keras.layers.convolutional.Conv2D at 0x7efd05236208>,\n",
              " <tensorflow.python.keras.layers.normalization_v2.BatchNormalization at 0x7efd051ff940>,\n",
              " <tensorflow.python.keras.layers.core.Activation at 0x7efd05259240>,\n",
              " <tensorflow.python.keras.layers.convolutional.Conv2D at 0x7efd052afb70>,\n",
              " <tensorflow.python.keras.layers.normalization_v2.BatchNormalization at 0x7efd0524a550>,\n",
              " <tensorflow.python.keras.layers.core.Activation at 0x7efd05265908>,\n",
              " <tensorflow.python.keras.layers.convolutional.Conv2D at 0x7efd052a8400>,\n",
              " <tensorflow.python.keras.layers.normalization_v2.BatchNormalization at 0x7efd05369d68>,\n",
              " <tensorflow.python.keras.layers.merge.Add at 0x7efd05265208>,\n",
              " <tensorflow.python.keras.layers.core.Activation at 0x7efd052dcd30>,\n",
              " <tensorflow.python.keras.layers.convolutional.Conv2D at 0x7efd052bfb70>,\n",
              " <tensorflow.python.keras.layers.normalization_v2.BatchNormalization at 0x7efd05330208>,\n",
              " <tensorflow.python.keras.layers.core.Activation at 0x7efd05320da0>,\n",
              " <tensorflow.python.keras.layers.convolutional.Conv2D at 0x7efd051c5940>,\n",
              " <tensorflow.python.keras.layers.normalization_v2.BatchNormalization at 0x7efd051c5278>,\n",
              " <tensorflow.python.keras.layers.core.Activation at 0x7efd052b5eb8>,\n",
              " <tensorflow.python.keras.layers.convolutional.Conv2D at 0x7efd051e0a58>,\n",
              " <tensorflow.python.keras.layers.normalization_v2.BatchNormalization at 0x7efd051e0160>,\n",
              " <tensorflow.python.keras.layers.merge.Add at 0x7efd051d64e0>,\n",
              " <tensorflow.python.keras.layers.core.Activation at 0x7efd051efda0>,\n",
              " <tensorflow.python.keras.layers.pooling.GlobalAveragePooling2D at 0x7efd051f4550>]"
            ]
          },
          "metadata": {
            "tags": []
          },
          "execution_count": 110
        }
      ]
    },
    {
      "cell_type": "code",
      "metadata": {
        "id": "aquiStuOMPA5"
      },
      "source": [
        "model.layers[0].trainable = False"
      ],
      "execution_count": 111,
      "outputs": []
    },
    {
      "cell_type": "code",
      "metadata": {
        "colab": {
          "base_uri": "https://localhost:8080/"
        },
        "id": "fLs7ydGMMSwg",
        "outputId": "f560b0c4-fe00-4c02-a601-d41d03a226cf"
      },
      "source": [
        "model.summary()"
      ],
      "execution_count": 112,
      "outputs": [
        {
          "output_type": "stream",
          "text": [
            "Model: \"sequential_2\"\n",
            "_________________________________________________________________\n",
            "Layer (type)                 Output Shape              Param #   \n",
            "=================================================================\n",
            "resnet50 (Functional)        (None, 2048)              23587712  \n",
            "_________________________________________________________________\n",
            "dense_3 (Dense)              (None, 2)                 4098      \n",
            "=================================================================\n",
            "Total params: 23,591,810\n",
            "Trainable params: 4,098\n",
            "Non-trainable params: 23,587,712\n",
            "_________________________________________________________________\n"
          ],
          "name": "stdout"
        }
      ]
    },
    {
      "cell_type": "code",
      "metadata": {
        "id": "q7zLD35tMYvf"
      },
      "source": [
        "model.compile(optimizer='adam', loss='categorical_crossentropy', metrics=['accuracy'])"
      ],
      "execution_count": 113,
      "outputs": []
    },
    {
      "cell_type": "code",
      "metadata": {
        "colab": {
          "base_uri": "https://localhost:8080/"
        },
        "id": "gqHDBrqrMgDs",
        "outputId": "e2b05fc7-b0d4-4bd8-b7b8-04094eb79696"
      },
      "source": [
        "history = model.fit(\r\n",
        "      train_generator,\r\n",
        "      steps_per_epoch=1,  \r\n",
        "      epochs=5,\r\n",
        "      validation_data = validation_generator)"
      ],
      "execution_count": 116,
      "outputs": [
        {
          "output_type": "stream",
          "text": [
            "Epoch 1/5\n",
            "1/1 [==============================] - 3s 3s/step - loss: 1.9242 - accuracy: 0.3441 - val_loss: 1.9448 - val_accuracy: 0.3797\n",
            "Epoch 2/5\n",
            "1/1 [==============================] - 2s 2s/step - loss: 1.9242 - accuracy: 0.3441 - val_loss: 1.9448 - val_accuracy: 0.3797\n",
            "Epoch 3/5\n",
            "1/1 [==============================] - 2s 2s/step - loss: 1.9242 - accuracy: 0.3441 - val_loss: 1.9448 - val_accuracy: 0.3797\n",
            "Epoch 4/5\n",
            "1/1 [==============================] - 2s 2s/step - loss: 1.9242 - accuracy: 0.3441 - val_loss: 1.9447 - val_accuracy: 0.3797\n",
            "Epoch 5/5\n",
            "1/1 [==============================] - 2s 2s/step - loss: 1.9242 - accuracy: 0.3441 - val_loss: 1.9447 - val_accuracy: 0.3797\n"
          ],
          "name": "stdout"
        }
      ]
    },
    {
      "cell_type": "code",
      "metadata": {
        "id": "stRcJA6uPXRs"
      },
      "source": [
        "model.save('classifier_resnet_model.h5')"
      ],
      "execution_count": 117,
      "outputs": []
    }
  ]
}